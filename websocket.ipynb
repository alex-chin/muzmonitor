{
 "cells": [
  {
   "cell_type": "code",
   "execution_count": 3,
   "id": "6c1c36c225ad6225",
   "metadata": {
    "collapsed": true,
    "ExecuteTime": {
     "end_time": "2023-08-21T16:09:10.739642400Z",
     "start_time": "2023-08-21T16:09:10.703318300Z"
    }
   },
   "outputs": [],
   "source": [
    "from websocket import create_connection\n",
    "import ssl\n"
   ]
  },
  {
   "cell_type": "code",
   "execution_count": 4,
   "outputs": [],
   "source": [
    "def test_connection(url):\n",
    "    ws = create_connection(url, sslopt={\"cert_reqs\": ssl.CERT_NONE})\n",
    "    print('Connection........', ws.recv())\n",
    "    ws.ping()\n",
    "    print('Ping........')\n",
    "    ws.send(' {\"event\":\"pusher:ping\",\"data\":{}}')\n",
    "    print('Ping2........', ws.recv())\n",
    "    ws.close()\n",
    "    "
   ],
   "metadata": {
    "collapsed": false,
    "ExecuteTime": {
     "end_time": "2023-08-21T16:09:11.140131500Z",
     "start_time": "2023-08-21T16:09:11.119057600Z"
    }
   },
   "id": "1a5c6e144ab7690f"
  },
  {
   "cell_type": "code",
   "execution_count": 5,
   "outputs": [
    {
     "name": "stdout",
     "output_type": "stream",
     "text": [
      "Connection........ {\"event\":\"pusher:connection_established\",\"data\":\"{\\\"socket_id\\\":\\\"848096409.338943636\\\",\\\"activity_timeout\\\":30}\"}\n",
      "Ping........\n",
      "Ping2........ {\"event\":\"pusher:pong\"}\n"
     ]
    }
   ],
   "source": [
    "test_connection('wss://pusher.muztorg.ru/app/anyKey')"
   ],
   "metadata": {
    "collapsed": false,
    "ExecuteTime": {
     "end_time": "2023-08-21T16:09:13.110469Z",
     "start_time": "2023-08-21T16:09:11.590783900Z"
    }
   },
   "id": "c970561a5ff4e246"
  },
  {
   "cell_type": "code",
   "execution_count": 6,
   "outputs": [
    {
     "name": "stdout",
     "output_type": "stream",
     "text": [
      "Connection........ {\"event\":\"pusher:connection_established\",\"data\":\"{\\\"socket_id\\\":\\\"538729620.176987704\\\",\\\"activity_timeout\\\":30}\"}\n",
      "Ping........\n",
      "Ping2........ {\"event\":\"pusher:pong\"}\n"
     ]
    }
   ],
   "source": [
    "test_connection('wss://pusher-stage.muztorg.ru/app/anyKey')"
   ],
   "metadata": {
    "collapsed": false,
    "ExecuteTime": {
     "end_time": "2023-08-21T16:09:14.206364700Z",
     "start_time": "2023-08-21T16:09:13.968893300Z"
    }
   },
   "id": "ef734fca97ffb232"
  },
  {
   "cell_type": "code",
   "execution_count": null,
   "outputs": [],
   "source": [],
   "metadata": {
    "collapsed": false
   },
   "id": "ea7e15babc371bd8"
  }
 ],
 "metadata": {
  "kernelspec": {
   "display_name": "Python 3",
   "language": "python",
   "name": "python3"
  },
  "language_info": {
   "codemirror_mode": {
    "name": "ipython",
    "version": 2
   },
   "file_extension": ".py",
   "mimetype": "text/x-python",
   "name": "python",
   "nbconvert_exporter": "python",
   "pygments_lexer": "ipython2",
   "version": "2.7.6"
  }
 },
 "nbformat": 4,
 "nbformat_minor": 5
}
