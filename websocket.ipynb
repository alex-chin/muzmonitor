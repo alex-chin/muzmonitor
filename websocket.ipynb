{
 "cells": [
  {
   "cell_type": "code",
   "execution_count": 4,
   "id": "929c3f0351b25fa4",
   "metadata": {
    "collapsed": true,
    "ExecuteTime": {
     "end_time": "2023-08-08T17:46:17.146821800Z",
     "start_time": "2023-08-08T17:46:16.782364400Z"
    }
   },
   "outputs": [],
   "source": [
    "from websocket import create_connection\n",
    "\n",
    "ws = create_connection(\"wss://pusher-stage.muztorg.ru/app/anyKey\")"
   ]
  },
  {
   "cell_type": "code",
   "execution_count": 1,
   "outputs": [
    {
     "ename": "WebSocketBadStatusException",
     "evalue": "Handshake status 426 Upgrade header MUST be provided -+-+- {'server': 'nginx', 'date': 'Tue, 08 Aug 2023 15:20:56 GMT', 'transfer-encoding': 'chunked', 'upgrade': 'websocket', 'sec-websocket-version': '13', 'x-powered-by': 'Ratchet/0.4.4', 'x-variti-ccr': '2364099148:1', 'set-cookie': 'rerf=AAAAAGTSXVgpr7d1Aw1YAg==; expires=Thu, 07-Sep-23 15:20:56 GMT; path=/; ipp_uid=1691508056883/stm0GhkuOWWJaSBA/BCVam4/3hLa9YY+OOTZTXw==; Expires=Tue, 31 Dec 2040 23:59:59 GMT; Path=/', 'p3p': 'policyref=\"/w3c/p3p.xml\", CP=\"CUR ADM OUR NOR STA NID\"', 'connection': 'close'} -+-+- None",
     "output_type": "error",
     "traceback": [
      "\u001B[1;31m---------------------------------------------------------------------------\u001B[0m",
      "\u001B[1;31mWebSocketBadStatusException\u001B[0m               Traceback (most recent call last)",
      "\u001B[1;32m~\\AppData\\Local\\Temp\\ipykernel_8032\\1617023737.py\u001B[0m in \u001B[0;36m<module>\u001B[1;34m\u001B[0m\n\u001B[0;32m      1\u001B[0m \u001B[1;32mfrom\u001B[0m \u001B[0mwebsocket\u001B[0m \u001B[1;32mimport\u001B[0m \u001B[0mcreate_connection\u001B[0m\u001B[1;33m\u001B[0m\u001B[1;33m\u001B[0m\u001B[0m\n\u001B[0;32m      2\u001B[0m \u001B[1;33m\u001B[0m\u001B[0m\n\u001B[1;32m----> 3\u001B[1;33m \u001B[0mws\u001B[0m \u001B[1;33m=\u001B[0m \u001B[0mcreate_connection\u001B[0m\u001B[1;33m(\u001B[0m\u001B[1;34m\"wss://pusher-stage.muztorg.ru/app/anyKey\"\u001B[0m\u001B[1;33m)\u001B[0m\u001B[1;33m\u001B[0m\u001B[1;33m\u001B[0m\u001B[0m\n\u001B[0m\u001B[0;32m      4\u001B[0m \u001B[0mprint\u001B[0m\u001B[1;33m(\u001B[0m\u001B[0mws\u001B[0m\u001B[1;33m.\u001B[0m\u001B[0mrecv\u001B[0m\u001B[1;33m(\u001B[0m\u001B[1;33m)\u001B[0m\u001B[1;33m)\u001B[0m\u001B[1;33m\u001B[0m\u001B[1;33m\u001B[0m\u001B[0m\n\u001B[0;32m      5\u001B[0m \u001B[0mprint\u001B[0m\u001B[1;33m(\u001B[0m\u001B[1;34m\"Sending 'Hello, World'...\"\u001B[0m\u001B[1;33m)\u001B[0m\u001B[1;33m\u001B[0m\u001B[1;33m\u001B[0m\u001B[0m\n",
      "\u001B[1;32mC:\\prj\\muzmonitor\\venv\\lib\\site-packages\\websocket\\_core.py\u001B[0m in \u001B[0;36mcreate_connection\u001B[1;34m(url, timeout, class_, **options)\u001B[0m\n\u001B[0;32m    606\u001B[0m                      skip_utf8_validation=skip_utf8_validation, **options)\n\u001B[0;32m    607\u001B[0m     \u001B[0mwebsock\u001B[0m\u001B[1;33m.\u001B[0m\u001B[0msettimeout\u001B[0m\u001B[1;33m(\u001B[0m\u001B[0mtimeout\u001B[0m \u001B[1;32mif\u001B[0m \u001B[0mtimeout\u001B[0m \u001B[1;32mis\u001B[0m \u001B[1;32mnot\u001B[0m \u001B[1;32mNone\u001B[0m \u001B[1;32melse\u001B[0m \u001B[0mgetdefaulttimeout\u001B[0m\u001B[1;33m(\u001B[0m\u001B[1;33m)\u001B[0m\u001B[1;33m)\u001B[0m\u001B[1;33m\u001B[0m\u001B[1;33m\u001B[0m\u001B[0m\n\u001B[1;32m--> 608\u001B[1;33m     \u001B[0mwebsock\u001B[0m\u001B[1;33m.\u001B[0m\u001B[0mconnect\u001B[0m\u001B[1;33m(\u001B[0m\u001B[0murl\u001B[0m\u001B[1;33m,\u001B[0m \u001B[1;33m**\u001B[0m\u001B[0moptions\u001B[0m\u001B[1;33m)\u001B[0m\u001B[1;33m\u001B[0m\u001B[1;33m\u001B[0m\u001B[0m\n\u001B[0m\u001B[0;32m    609\u001B[0m     \u001B[1;32mreturn\u001B[0m \u001B[0mwebsock\u001B[0m\u001B[1;33m\u001B[0m\u001B[1;33m\u001B[0m\u001B[0m\n",
      "\u001B[1;32mC:\\prj\\muzmonitor\\venv\\lib\\site-packages\\websocket\\_core.py\u001B[0m in \u001B[0;36mconnect\u001B[1;34m(self, url, **options)\u001B[0m\n\u001B[0;32m    251\u001B[0m \u001B[1;33m\u001B[0m\u001B[0m\n\u001B[0;32m    252\u001B[0m         \u001B[1;32mtry\u001B[0m\u001B[1;33m:\u001B[0m\u001B[1;33m\u001B[0m\u001B[1;33m\u001B[0m\u001B[0m\n\u001B[1;32m--> 253\u001B[1;33m             \u001B[0mself\u001B[0m\u001B[1;33m.\u001B[0m\u001B[0mhandshake_response\u001B[0m \u001B[1;33m=\u001B[0m \u001B[0mhandshake\u001B[0m\u001B[1;33m(\u001B[0m\u001B[0mself\u001B[0m\u001B[1;33m.\u001B[0m\u001B[0msock\u001B[0m\u001B[1;33m,\u001B[0m \u001B[0murl\u001B[0m\u001B[1;33m,\u001B[0m \u001B[1;33m*\u001B[0m\u001B[0maddrs\u001B[0m\u001B[1;33m,\u001B[0m \u001B[1;33m**\u001B[0m\u001B[0moptions\u001B[0m\u001B[1;33m)\u001B[0m\u001B[1;33m\u001B[0m\u001B[1;33m\u001B[0m\u001B[0m\n\u001B[0m\u001B[0;32m    254\u001B[0m             \u001B[1;32mfor\u001B[0m \u001B[0mattempt\u001B[0m \u001B[1;32min\u001B[0m \u001B[0mrange\u001B[0m\u001B[1;33m(\u001B[0m\u001B[0moptions\u001B[0m\u001B[1;33m.\u001B[0m\u001B[0mpop\u001B[0m\u001B[1;33m(\u001B[0m\u001B[1;34m'redirect_limit'\u001B[0m\u001B[1;33m,\u001B[0m \u001B[1;36m3\u001B[0m\u001B[1;33m)\u001B[0m\u001B[1;33m)\u001B[0m\u001B[1;33m:\u001B[0m\u001B[1;33m\u001B[0m\u001B[1;33m\u001B[0m\u001B[0m\n\u001B[0;32m    255\u001B[0m                 \u001B[1;32mif\u001B[0m \u001B[0mself\u001B[0m\u001B[1;33m.\u001B[0m\u001B[0mhandshake_response\u001B[0m\u001B[1;33m.\u001B[0m\u001B[0mstatus\u001B[0m \u001B[1;32min\u001B[0m \u001B[0mSUPPORTED_REDIRECT_STATUSES\u001B[0m\u001B[1;33m:\u001B[0m\u001B[1;33m\u001B[0m\u001B[1;33m\u001B[0m\u001B[0m\n",
      "\u001B[1;32mC:\\prj\\muzmonitor\\venv\\lib\\site-packages\\websocket\\_handshake.py\u001B[0m in \u001B[0;36mhandshake\u001B[1;34m(sock, url, hostname, port, resource, **options)\u001B[0m\n\u001B[0;32m     55\u001B[0m     \u001B[0mdump\u001B[0m\u001B[1;33m(\u001B[0m\u001B[1;34m\"request header\"\u001B[0m\u001B[1;33m,\u001B[0m \u001B[0mheader_str\u001B[0m\u001B[1;33m)\u001B[0m\u001B[1;33m\u001B[0m\u001B[1;33m\u001B[0m\u001B[0m\n\u001B[0;32m     56\u001B[0m \u001B[1;33m\u001B[0m\u001B[0m\n\u001B[1;32m---> 57\u001B[1;33m     \u001B[0mstatus\u001B[0m\u001B[1;33m,\u001B[0m \u001B[0mresp\u001B[0m \u001B[1;33m=\u001B[0m \u001B[0m_get_resp_headers\u001B[0m\u001B[1;33m(\u001B[0m\u001B[0msock\u001B[0m\u001B[1;33m)\u001B[0m\u001B[1;33m\u001B[0m\u001B[1;33m\u001B[0m\u001B[0m\n\u001B[0m\u001B[0;32m     58\u001B[0m     \u001B[1;32mif\u001B[0m \u001B[0mstatus\u001B[0m \u001B[1;32min\u001B[0m \u001B[0mSUPPORTED_REDIRECT_STATUSES\u001B[0m\u001B[1;33m:\u001B[0m\u001B[1;33m\u001B[0m\u001B[1;33m\u001B[0m\u001B[0m\n\u001B[0;32m     59\u001B[0m         \u001B[1;32mreturn\u001B[0m \u001B[0mhandshake_response\u001B[0m\u001B[1;33m(\u001B[0m\u001B[0mstatus\u001B[0m\u001B[1;33m,\u001B[0m \u001B[0mresp\u001B[0m\u001B[1;33m,\u001B[0m \u001B[1;32mNone\u001B[0m\u001B[1;33m)\u001B[0m\u001B[1;33m\u001B[0m\u001B[1;33m\u001B[0m\u001B[0m\n",
      "\u001B[1;32mC:\\prj\\muzmonitor\\venv\\lib\\site-packages\\websocket\\_handshake.py\u001B[0m in \u001B[0;36m_get_resp_headers\u001B[1;34m(sock, success_statuses)\u001B[0m\n\u001B[0;32m    148\u001B[0m         \u001B[1;32melse\u001B[0m\u001B[1;33m:\u001B[0m\u001B[1;33m\u001B[0m\u001B[1;33m\u001B[0m\u001B[0m\n\u001B[0;32m    149\u001B[0m             \u001B[0mresponse_body\u001B[0m \u001B[1;33m=\u001B[0m \u001B[1;32mNone\u001B[0m\u001B[1;33m\u001B[0m\u001B[1;33m\u001B[0m\u001B[0m\n\u001B[1;32m--> 150\u001B[1;33m         \u001B[1;32mraise\u001B[0m \u001B[0mWebSocketBadStatusException\u001B[0m\u001B[1;33m(\u001B[0m\u001B[1;34m\"Handshake status {status} {message} -+-+- {headers} -+-+- {body}\"\u001B[0m\u001B[1;33m.\u001B[0m\u001B[0mformat\u001B[0m\u001B[1;33m(\u001B[0m\u001B[0mstatus\u001B[0m\u001B[1;33m=\u001B[0m\u001B[0mstatus\u001B[0m\u001B[1;33m,\u001B[0m \u001B[0mmessage\u001B[0m\u001B[1;33m=\u001B[0m\u001B[0mstatus_message\u001B[0m\u001B[1;33m,\u001B[0m \u001B[0mheaders\u001B[0m\u001B[1;33m=\u001B[0m\u001B[0mresp_headers\u001B[0m\u001B[1;33m,\u001B[0m \u001B[0mbody\u001B[0m\u001B[1;33m=\u001B[0m\u001B[0mresponse_body\u001B[0m\u001B[1;33m)\u001B[0m\u001B[1;33m,\u001B[0m \u001B[0mstatus\u001B[0m\u001B[1;33m,\u001B[0m \u001B[0mstatus_message\u001B[0m\u001B[1;33m,\u001B[0m \u001B[0mresp_headers\u001B[0m\u001B[1;33m,\u001B[0m \u001B[0mresponse_body\u001B[0m\u001B[1;33m)\u001B[0m\u001B[1;33m\u001B[0m\u001B[1;33m\u001B[0m\u001B[0m\n\u001B[0m\u001B[0;32m    151\u001B[0m     \u001B[1;32mreturn\u001B[0m \u001B[0mstatus\u001B[0m\u001B[1;33m,\u001B[0m \u001B[0mresp_headers\u001B[0m\u001B[1;33m\u001B[0m\u001B[1;33m\u001B[0m\u001B[0m\n\u001B[0;32m    152\u001B[0m \u001B[1;33m\u001B[0m\u001B[0m\n",
      "\u001B[1;31mWebSocketBadStatusException\u001B[0m: Handshake status 426 Upgrade header MUST be provided -+-+- {'server': 'nginx', 'date': 'Tue, 08 Aug 2023 15:20:56 GMT', 'transfer-encoding': 'chunked', 'upgrade': 'websocket', 'sec-websocket-version': '13', 'x-powered-by': 'Ratchet/0.4.4', 'x-variti-ccr': '2364099148:1', 'set-cookie': 'rerf=AAAAAGTSXVgpr7d1Aw1YAg==; expires=Thu, 07-Sep-23 15:20:56 GMT; path=/; ipp_uid=1691508056883/stm0GhkuOWWJaSBA/BCVam4/3hLa9YY+OOTZTXw==; Expires=Tue, 31 Dec 2040 23:59:59 GMT; Path=/', 'p3p': 'policyref=\"/w3c/p3p.xml\", CP=\"CUR ADM OUR NOR STA NID\"', 'connection': 'close'} -+-+- None"
     ]
    }
   ],
   "source": [
    "print(ws.recv())\n",
    "print(\"Sending 'Hello, World'...\")\n",
    "ws.send(\"Hello, World\")\n",
    "print(\"Sent\")\n",
    "print(\"Receiving...\")\n",
    "result =  ws.recv()\n",
    "print(\"Received '%s'\" % result)\n",
    "ws.close()"
   ],
   "metadata": {
    "collapsed": false,
    "ExecuteTime": {
     "start_time": "2023-08-08T15:20:56.229733900Z"
    }
   },
   "id": "initial_id"
  },
  {
   "cell_type": "code",
   "execution_count": null,
   "outputs": [],
   "source": [],
   "metadata": {
    "collapsed": false
   },
   "id": "b80a33b2c0c63853"
  }
 ],
 "metadata": {
  "kernelspec": {
   "display_name": "Python 3",
   "language": "python",
   "name": "python3"
  },
  "language_info": {
   "codemirror_mode": {
    "name": "ipython",
    "version": 2
   },
   "file_extension": ".py",
   "mimetype": "text/x-python",
   "name": "python",
   "nbconvert_exporter": "python",
   "pygments_lexer": "ipython2",
   "version": "2.7.6"
  }
 },
 "nbformat": 4,
 "nbformat_minor": 5
}
