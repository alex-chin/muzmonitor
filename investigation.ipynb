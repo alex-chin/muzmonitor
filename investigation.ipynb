{
 "cells": [
  {
   "cell_type": "markdown",
   "source": [
    "# Анализ запрос в Dadata"
   ],
   "metadata": {
    "collapsed": false
   },
   "id": "bcc1494e6348836d"
  },
  {
   "cell_type": "code",
   "execution_count": 72,
   "id": "initial_id",
   "metadata": {
    "collapsed": true,
    "ExecuteTime": {
     "end_time": "2023-08-03T08:12:50.146235300Z",
     "start_time": "2023-08-03T08:12:50.124791300Z"
    }
   },
   "outputs": [],
   "source": [
    "import pandas as pd"
   ]
  },
  {
   "cell_type": "markdown",
   "source": [
    "## Чтение журналов "
   ],
   "metadata": {
    "collapsed": false
   },
   "id": "d14994d883a470a7"
  },
  {
   "cell_type": "code",
   "execution_count": 78,
   "outputs": [
    {
     "data": {
      "text/plain": "                  timestamp           source                   host  \\\n0  2023-08-02T06:48:57.000Z  178.216.100.193  suggestions.dadata.ru   \n1  2023-08-02T06:48:57.000Z  178.216.100.193  suggestions.dadata.ru   \n2  2023-08-02T06:48:57.000Z  178.216.100.193  suggestions.dadata.ru   \n3  2023-08-02T06:48:57.000Z  178.216.100.193  suggestions.dadata.ru   \n4  2023-08-02T06:48:57.000Z  178.216.100.193  suggestions.dadata.ru   \n\n   response_status  request_time http_user_agent  \\\n0              200         0.001    GuzzleHttp/7   \n1              200         0.002    GuzzleHttp/7   \n2              200         0.001    GuzzleHttp/7   \n3              200         0.006    GuzzleHttp/7   \n4              200         0.002    GuzzleHttp/7   \n\n                                             message  \n0  GET /suggestions/api/4_1/rs/iplocate/address?i...  \n1  GET /suggestions/api/4_1/rs/iplocate/address?i...  \n2  GET /suggestions/api/4_1/rs/iplocate/address?i...  \n3  GET /suggestions/api/4_1/rs/iplocate/address?i...  \n4  GET /suggestions/api/4_1/rs/iplocate/address?i...  ",
      "text/html": "<div>\n<style scoped>\n    .dataframe tbody tr th:only-of-type {\n        vertical-align: middle;\n    }\n\n    .dataframe tbody tr th {\n        vertical-align: top;\n    }\n\n    .dataframe thead th {\n        text-align: right;\n    }\n</style>\n<table border=\"1\" class=\"dataframe\">\n  <thead>\n    <tr style=\"text-align: right;\">\n      <th></th>\n      <th>timestamp</th>\n      <th>source</th>\n      <th>host</th>\n      <th>response_status</th>\n      <th>request_time</th>\n      <th>http_user_agent</th>\n      <th>message</th>\n    </tr>\n  </thead>\n  <tbody>\n    <tr>\n      <th>0</th>\n      <td>2023-08-02T06:48:57.000Z</td>\n      <td>178.216.100.193</td>\n      <td>suggestions.dadata.ru</td>\n      <td>200</td>\n      <td>0.001</td>\n      <td>GuzzleHttp/7</td>\n      <td>GET /suggestions/api/4_1/rs/iplocate/address?i...</td>\n    </tr>\n    <tr>\n      <th>1</th>\n      <td>2023-08-02T06:48:57.000Z</td>\n      <td>178.216.100.193</td>\n      <td>suggestions.dadata.ru</td>\n      <td>200</td>\n      <td>0.002</td>\n      <td>GuzzleHttp/7</td>\n      <td>GET /suggestions/api/4_1/rs/iplocate/address?i...</td>\n    </tr>\n    <tr>\n      <th>2</th>\n      <td>2023-08-02T06:48:57.000Z</td>\n      <td>178.216.100.193</td>\n      <td>suggestions.dadata.ru</td>\n      <td>200</td>\n      <td>0.001</td>\n      <td>GuzzleHttp/7</td>\n      <td>GET /suggestions/api/4_1/rs/iplocate/address?i...</td>\n    </tr>\n    <tr>\n      <th>3</th>\n      <td>2023-08-02T06:48:57.000Z</td>\n      <td>178.216.100.193</td>\n      <td>suggestions.dadata.ru</td>\n      <td>200</td>\n      <td>0.006</td>\n      <td>GuzzleHttp/7</td>\n      <td>GET /suggestions/api/4_1/rs/iplocate/address?i...</td>\n    </tr>\n    <tr>\n      <th>4</th>\n      <td>2023-08-02T06:48:57.000Z</td>\n      <td>178.216.100.193</td>\n      <td>suggestions.dadata.ru</td>\n      <td>200</td>\n      <td>0.002</td>\n      <td>GuzzleHttp/7</td>\n      <td>GET /suggestions/api/4_1/rs/iplocate/address?i...</td>\n    </tr>\n  </tbody>\n</table>\n</div>"
     },
     "execution_count": 78,
     "metadata": {},
     "output_type": "execute_result"
    }
   ],
   "source": [
    "df = pd.read_csv('31151.csv')\n",
    "df.head()"
   ],
   "metadata": {
    "collapsed": false,
    "ExecuteTime": {
     "end_time": "2023-08-03T08:14:33.551799600Z",
     "start_time": "2023-08-03T08:14:33.510338100Z"
    }
   },
   "id": "1d0cee4511a8e1be"
  },
  {
   "cell_type": "markdown",
   "source": [
    "## Анализ данных"
   ],
   "metadata": {
    "collapsed": false
   },
   "id": "c444db6088314dc"
  },
  {
   "cell_type": "code",
   "execution_count": 75,
   "outputs": [
    {
     "data": {
      "text/plain": "timestamp          2234\nsource                9\nhost                  2\nresponse_status       2\nrequest_time         28\nhttp_user_agent       5\nmessage              17\ndtype: int64"
     },
     "execution_count": 75,
     "metadata": {},
     "output_type": "execute_result"
    }
   ],
   "source": [
    "df.nunique()"
   ],
   "metadata": {
    "collapsed": false,
    "ExecuteTime": {
     "end_time": "2023-08-03T08:12:52.975070900Z",
     "start_time": "2023-08-03T08:12:52.928874700Z"
    }
   },
   "id": "452b747bb4ed7b97"
  },
  {
   "cell_type": "markdown",
   "source": [
    "> source - источник запросов - всего 9 уникальных значений"
   ],
   "metadata": {
    "collapsed": false
   },
   "id": "deb2227a548c95c0"
  },
  {
   "cell_type": "code",
   "execution_count": 76,
   "outputs": [
    {
     "data": {
      "text/plain": "array(['178.216.100.193', '188.35.29.1', '178.216.98.64', '217.73.62.199',\n       '195.38.23.9', '90.154.71.17', '109.252.176.52', '83.220.238.14',\n       '89.23.156.102'], dtype=object)"
     },
     "execution_count": 76,
     "metadata": {},
     "output_type": "execute_result"
    }
   ],
   "source": [
    "df.source.unique()"
   ],
   "metadata": {
    "collapsed": false,
    "ExecuteTime": {
     "end_time": "2023-08-03T08:12:54.445904900Z",
     "start_time": "2023-08-03T08:12:54.433400200Z"
    }
   },
   "id": "4b293632a49d6ae8"
  },
  {
   "cell_type": "markdown",
   "source": [
    "> все уникальные адреса"
   ],
   "metadata": {
    "collapsed": false
   },
   "id": "25727a1bef320d79"
  },
  {
   "cell_type": "code",
   "execution_count": 84,
   "outputs": [
    {
     "data": {
      "text/plain": "            source  count\n0    178.216.98.64   5958\n1    217.73.62.199   5832\n2     90.154.71.17     40\n3  178.216.100.193     35\n4      195.38.23.9      8\n5   109.252.176.52      6\n6      188.35.29.1      2\n7    83.220.238.14      2\n8    89.23.156.102      2",
      "text/html": "<div>\n<style scoped>\n    .dataframe tbody tr th:only-of-type {\n        vertical-align: middle;\n    }\n\n    .dataframe tbody tr th {\n        vertical-align: top;\n    }\n\n    .dataframe thead th {\n        text-align: right;\n    }\n</style>\n<table border=\"1\" class=\"dataframe\">\n  <thead>\n    <tr style=\"text-align: right;\">\n      <th></th>\n      <th>source</th>\n      <th>count</th>\n    </tr>\n  </thead>\n  <tbody>\n    <tr>\n      <th>0</th>\n      <td>178.216.98.64</td>\n      <td>5958</td>\n    </tr>\n    <tr>\n      <th>1</th>\n      <td>217.73.62.199</td>\n      <td>5832</td>\n    </tr>\n    <tr>\n      <th>2</th>\n      <td>90.154.71.17</td>\n      <td>40</td>\n    </tr>\n    <tr>\n      <th>3</th>\n      <td>178.216.100.193</td>\n      <td>35</td>\n    </tr>\n    <tr>\n      <th>4</th>\n      <td>195.38.23.9</td>\n      <td>8</td>\n    </tr>\n    <tr>\n      <th>5</th>\n      <td>109.252.176.52</td>\n      <td>6</td>\n    </tr>\n    <tr>\n      <th>6</th>\n      <td>188.35.29.1</td>\n      <td>2</td>\n    </tr>\n    <tr>\n      <th>7</th>\n      <td>83.220.238.14</td>\n      <td>2</td>\n    </tr>\n    <tr>\n      <th>8</th>\n      <td>89.23.156.102</td>\n      <td>2</td>\n    </tr>\n  </tbody>\n</table>\n</div>"
     },
     "execution_count": 84,
     "metadata": {},
     "output_type": "execute_result"
    }
   ],
   "source": [
    "df1=pd.DataFrame(df.source.value_counts())\n",
    "df1.reset_index(inplace=True)\n",
    "df1"
   ],
   "metadata": {
    "collapsed": false,
    "ExecuteTime": {
     "end_time": "2023-08-03T08:29:35.006242900Z",
     "start_time": "2023-08-03T08:29:34.954370700Z"
    }
   },
   "id": "c193784123245e70"
  },
  {
   "cell_type": "markdown",
   "source": [
    "> Количество запросов"
   ],
   "metadata": {
    "collapsed": false
   },
   "id": "582cb080e7032781"
  },
  {
   "cell_type": "markdown",
   "source": [
    "## Расшифровка ip адресов "
   ],
   "metadata": {
    "collapsed": false
   },
   "id": "7ab9d069d8ebdc01"
  },
  {
   "cell_type": "markdown",
   "source": [
    "[How to Get Location Information of an IP Address Using Python](https://www.freecodecamp.org/news/how-to-get-location-information-of-ip-address-using-python)\n",
    "[Location of a specific IP](https://ipapi.co/api/#complete-location)"
   ],
   "metadata": {
    "collapsed": false
   },
   "id": "9319c07dc23b10dd"
  },
  {
   "cell_type": "code",
   "execution_count": 85,
   "outputs": [],
   "source": [
    "import requests"
   ],
   "metadata": {
    "collapsed": false,
    "ExecuteTime": {
     "end_time": "2023-08-03T08:29:40.228408400Z",
     "start_time": "2023-08-03T08:29:40.213816800Z"
    }
   },
   "id": "e6d760eff5e69c44"
  },
  {
   "cell_type": "code",
   "execution_count": 86,
   "outputs": [],
   "source": [
    "def get_location(ip_address):\n",
    "    response = requests.get(f'https://ipapi.co/{ip_address}/json/').json()\n",
    "    location_data = {\n",
    "        \"ip\": ip_address,\n",
    "        \"city\": response.get(\"city\"),\n",
    "        \"region\": response.get(\"region\"),\n",
    "        \"country\": response.get(\"country_name\"),\n",
    "        \"org\": response.get(\"org\"),\n",
    "        \"hostname\": response.get(\"hostname\"),\n",
    "    }\n",
    "    return location_data"
   ],
   "metadata": {
    "collapsed": false,
    "ExecuteTime": {
     "end_time": "2023-08-03T08:29:41.298035800Z",
     "start_time": "2023-08-03T08:29:41.283405800Z"
    }
   },
   "id": "901b29a2b49ea69c"
  },
  {
   "cell_type": "code",
   "execution_count": 87,
   "outputs": [
    {
     "data": {
      "text/plain": "{'ip': '178.216.98.64',\n 'city': 'Moscow',\n 'region': 'Moscow',\n 'country': 'Russia',\n 'org': 'Closed Joint Stock Company CROC incorporated',\n 'hostname': None}"
     },
     "execution_count": 87,
     "metadata": {},
     "output_type": "execute_result"
    }
   ],
   "source": [
    "get_location('178.216.98.64')"
   ],
   "metadata": {
    "collapsed": false,
    "ExecuteTime": {
     "end_time": "2023-08-03T08:29:43.330086300Z",
     "start_time": "2023-08-03T08:29:42.259474600Z"
    }
   },
   "id": "9b0490b340f55584"
  },
  {
   "cell_type": "code",
   "execution_count": 89,
   "outputs": [
    {
     "data": {
      "text/plain": "            source  count                                           org\n0    178.216.98.64   5958  Closed Joint Stock Company CROC incorporated\n1    217.73.62.199   5832  Closed Joint Stock Company CROC incorporated\n2     90.154.71.17     40                                    Rostelecom\n3  178.216.100.193     35  Closed Joint Stock Company CROC incorporated\n4      195.38.23.9      8  Closed Joint Stock Company CROC incorporated\n5   109.252.176.52      6            PJSC Moscow city telephone network\n6      188.35.29.1      2                               Komplektorg Ooo\n7    83.220.238.14      2                                    PVimpelCom\n8    89.23.156.102      2                                  LLC Powernet",
      "text/html": "<div>\n<style scoped>\n    .dataframe tbody tr th:only-of-type {\n        vertical-align: middle;\n    }\n\n    .dataframe tbody tr th {\n        vertical-align: top;\n    }\n\n    .dataframe thead th {\n        text-align: right;\n    }\n</style>\n<table border=\"1\" class=\"dataframe\">\n  <thead>\n    <tr style=\"text-align: right;\">\n      <th></th>\n      <th>source</th>\n      <th>count</th>\n      <th>org</th>\n    </tr>\n  </thead>\n  <tbody>\n    <tr>\n      <th>0</th>\n      <td>178.216.98.64</td>\n      <td>5958</td>\n      <td>Closed Joint Stock Company CROC incorporated</td>\n    </tr>\n    <tr>\n      <th>1</th>\n      <td>217.73.62.199</td>\n      <td>5832</td>\n      <td>Closed Joint Stock Company CROC incorporated</td>\n    </tr>\n    <tr>\n      <th>2</th>\n      <td>90.154.71.17</td>\n      <td>40</td>\n      <td>Rostelecom</td>\n    </tr>\n    <tr>\n      <th>3</th>\n      <td>178.216.100.193</td>\n      <td>35</td>\n      <td>Closed Joint Stock Company CROC incorporated</td>\n    </tr>\n    <tr>\n      <th>4</th>\n      <td>195.38.23.9</td>\n      <td>8</td>\n      <td>Closed Joint Stock Company CROC incorporated</td>\n    </tr>\n    <tr>\n      <th>5</th>\n      <td>109.252.176.52</td>\n      <td>6</td>\n      <td>PJSC Moscow city telephone network</td>\n    </tr>\n    <tr>\n      <th>6</th>\n      <td>188.35.29.1</td>\n      <td>2</td>\n      <td>Komplektorg Ooo</td>\n    </tr>\n    <tr>\n      <th>7</th>\n      <td>83.220.238.14</td>\n      <td>2</td>\n      <td>PVimpelCom</td>\n    </tr>\n    <tr>\n      <th>8</th>\n      <td>89.23.156.102</td>\n      <td>2</td>\n      <td>LLC Powernet</td>\n    </tr>\n  </tbody>\n</table>\n</div>"
     },
     "execution_count": 89,
     "metadata": {},
     "output_type": "execute_result"
    }
   ],
   "source": [
    "df1['org']=df1.source.apply(lambda x: get_location(x)['org'])\n",
    "df1"
   ],
   "metadata": {
    "collapsed": false,
    "ExecuteTime": {
     "end_time": "2023-08-03T08:30:05.118135900Z",
     "start_time": "2023-08-03T08:29:59.551810200Z"
    }
   },
   "id": "20e71d7af5653934"
  },
  {
   "cell_type": "markdown",
   "source": [
    "## Формирование статистики"
   ],
   "metadata": {
    "collapsed": false
   },
   "id": "225e6e0dcdfdf898"
  },
  {
   "cell_type": "markdown",
   "source": [
    "Суммирование по принадлежности IP к компании"
   ],
   "metadata": {
    "collapsed": false
   },
   "id": "bb275ec4eb738966"
  },
  {
   "cell_type": "code",
   "execution_count": 91,
   "outputs": [
    {
     "data": {
      "text/plain": "                                              count\norg                                                \nClosed Joint Stock Company CROC incorporated  11833\nKomplektorg Ooo                                   2\nLLC Powernet                                      2\nPJSC Moscow city telephone network                6\nPVimpelCom                                        2\nRostelecom                                       40",
      "text/html": "<div>\n<style scoped>\n    .dataframe tbody tr th:only-of-type {\n        vertical-align: middle;\n    }\n\n    .dataframe tbody tr th {\n        vertical-align: top;\n    }\n\n    .dataframe thead th {\n        text-align: right;\n    }\n</style>\n<table border=\"1\" class=\"dataframe\">\n  <thead>\n    <tr style=\"text-align: right;\">\n      <th></th>\n      <th>count</th>\n    </tr>\n    <tr>\n      <th>org</th>\n      <th></th>\n    </tr>\n  </thead>\n  <tbody>\n    <tr>\n      <th>Closed Joint Stock Company CROC incorporated</th>\n      <td>11833</td>\n    </tr>\n    <tr>\n      <th>Komplektorg Ooo</th>\n      <td>2</td>\n    </tr>\n    <tr>\n      <th>LLC Powernet</th>\n      <td>2</td>\n    </tr>\n    <tr>\n      <th>PJSC Moscow city telephone network</th>\n      <td>6</td>\n    </tr>\n    <tr>\n      <th>PVimpelCom</th>\n      <td>2</td>\n    </tr>\n    <tr>\n      <th>Rostelecom</th>\n      <td>40</td>\n    </tr>\n  </tbody>\n</table>\n</div>"
     },
     "execution_count": 91,
     "metadata": {},
     "output_type": "execute_result"
    }
   ],
   "source": [
    "df2=df1.drop(labels=['source'],axis=1).groupby(['org']).sum()\n",
    "df2"
   ],
   "metadata": {
    "collapsed": false,
    "ExecuteTime": {
     "end_time": "2023-08-03T08:33:18.480584400Z",
     "start_time": "2023-08-03T08:33:18.437698100Z"
    }
   },
   "id": "c60e804c91797891"
  },
  {
   "cell_type": "code",
   "execution_count": 92,
   "outputs": [
    {
     "data": {
      "text/plain": "<Figure size 500x500 with 1 Axes>",
      "image/png": "[encoded data removed]"
     },
     "metadata": {},
     "output_type": "display_data"
    }
   ],
   "source": [
    "plot = df2.plot.pie(y='count', figsize=(5, 5))"
   ],
   "metadata": {
    "collapsed": false,
    "ExecuteTime": {
     "end_time": "2023-08-03T08:34:18.636463700Z",
     "start_time": "2023-08-03T08:34:18.506447900Z"
    }
   },
   "id": "ba0ad1a786492f8e"
  }
 ],
 "metadata": {
  "kernelspec": {
   "display_name": "Python 3",
   "language": "python",
   "name": "python3"
  },
  "language_info": {
   "codemirror_mode": {
    "name": "ipython",
    "version": 2
   },
   "file_extension": ".py",
   "mimetype": "text/x-python",
   "name": "python",
   "nbconvert_exporter": "python",
   "pygments_lexer": "ipython2",
   "version": "2.7.6"
  }
 },
 "nbformat": 4,
 "nbformat_minor": 5
}
