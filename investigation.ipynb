{
 "cells": [
  {
   "cell_type": "code",
   "execution_count": 1,
   "id": "initial_id",
   "metadata": {
    "collapsed": true,
    "ExecuteTime": {
     "end_time": "2023-08-02T20:50:23.120071900Z",
     "start_time": "2023-08-02T20:50:22.828071900Z"
    }
   },
   "outputs": [],
   "source": [
    "import pandas as pd"
   ]
  },
  {
   "cell_type": "code",
   "execution_count": 2,
   "outputs": [],
   "source": [
    "df = pd.read_csv('31151.csv')"
   ],
   "metadata": {
    "collapsed": false,
    "ExecuteTime": {
     "end_time": "2023-08-02T20:51:33.373866400Z",
     "start_time": "2023-08-02T20:51:33.333868200Z"
    }
   },
   "id": "4de380d204012616"
  },
  {
   "cell_type": "code",
   "execution_count": 3,
   "outputs": [
    {
     "data": {
      "text/plain": "                      timestamp           source                   host  \\\n0      2023-08-02T06:48:57.000Z  178.216.100.193  suggestions.dadata.ru   \n1      2023-08-02T06:48:57.000Z  178.216.100.193  suggestions.dadata.ru   \n2      2023-08-02T06:48:57.000Z  178.216.100.193  suggestions.dadata.ru   \n3      2023-08-02T06:48:57.000Z  178.216.100.193  suggestions.dadata.ru   \n4      2023-08-02T06:48:57.000Z  178.216.100.193  suggestions.dadata.ru   \n...                         ...              ...                    ...   \n11880  2023-08-02T12:29:41.000Z    178.216.98.64  suggestions.dadata.ru   \n11881  2023-08-02T12:30:26.000Z    89.23.156.102  suggestions.dadata.ru   \n11882  2023-08-02T12:30:26.000Z    89.23.156.102  suggestions.dadata.ru   \n11883  2023-08-02T14:05:03.000Z     90.154.71.17  suggestions.dadata.ru   \n11884  2023-08-02T14:05:03.000Z     90.154.71.17  suggestions.dadata.ru   \n\n       response_status  request_time  \\\n0                  200         0.001   \n1                  200         0.002   \n2                  200         0.001   \n3                  200         0.006   \n4                  200         0.002   \n...                ...           ...   \n11880              403         0.001   \n11881              403         0.008   \n11882              403         0.007   \n11883              403         0.009   \n11884              403         0.007   \n\n                                         http_user_agent  \\\n0                                           GuzzleHttp/7   \n1                                           GuzzleHttp/7   \n2                                           GuzzleHttp/7   \n3                                           GuzzleHttp/7   \n4                                           GuzzleHttp/7   \n...                                                  ...   \n11880                                       GuzzleHttp/7   \n11881  Mozilla/5.0 (Windows NT 10.0; Win64; x64) Appl...   \n11882  Mozilla/5.0 (Windows NT 10.0; Win64; x64) Appl...   \n11883  Mozilla/5.0 (Windows NT 10.0; Win64; x64) Appl...   \n11884  Mozilla/5.0 (Windows NT 10.0; Win64; x64) Appl...   \n\n                                                 message  \n0      GET /suggestions/api/4_1/rs/iplocate/address?i...  \n1      GET /suggestions/api/4_1/rs/iplocate/address?i...  \n2      GET /suggestions/api/4_1/rs/iplocate/address?i...  \n3      GET /suggestions/api/4_1/rs/iplocate/address?i...  \n4      GET /suggestions/api/4_1/rs/iplocate/address?i...  \n...                                                  ...  \n11880  GET /suggestions/api/4_1/rs/iplocate/address?i...  \n11881  POST /suggestions/api/4_1/rs/suggest/address H...  \n11882  POST /suggestions/api/4_1/rs/suggest/address H...  \n11883  POST /suggestions/api/4_1/rs/suggest/address H...  \n11884  POST /suggestions/api/4_1/rs/suggest/address H...  \n\n[11885 rows x 7 columns]",
      "text/html": "<div>\n<style scoped>\n    .dataframe tbody tr th:only-of-type {\n        vertical-align: middle;\n    }\n\n    .dataframe tbody tr th {\n        vertical-align: top;\n    }\n\n    .dataframe thead th {\n        text-align: right;\n    }\n</style>\n<table border=\"1\" class=\"dataframe\">\n  <thead>\n    <tr style=\"text-align: right;\">\n      <th></th>\n      <th>timestamp</th>\n      <th>source</th>\n      <th>host</th>\n      <th>response_status</th>\n      <th>request_time</th>\n      <th>http_user_agent</th>\n      <th>message</th>\n    </tr>\n  </thead>\n  <tbody>\n    <tr>\n      <th>0</th>\n      <td>2023-08-02T06:48:57.000Z</td>\n      <td>178.216.100.193</td>\n      <td>suggestions.dadata.ru</td>\n      <td>200</td>\n      <td>0.001</td>\n      <td>GuzzleHttp/7</td>\n      <td>GET /suggestions/api/4_1/rs/iplocate/address?i...</td>\n    </tr>\n    <tr>\n      <th>1</th>\n      <td>2023-08-02T06:48:57.000Z</td>\n      <td>178.216.100.193</td>\n      <td>suggestions.dadata.ru</td>\n      <td>200</td>\n      <td>0.002</td>\n      <td>GuzzleHttp/7</td>\n      <td>GET /suggestions/api/4_1/rs/iplocate/address?i...</td>\n    </tr>\n    <tr>\n      <th>2</th>\n      <td>2023-08-02T06:48:57.000Z</td>\n      <td>178.216.100.193</td>\n      <td>suggestions.dadata.ru</td>\n      <td>200</td>\n      <td>0.001</td>\n      <td>GuzzleHttp/7</td>\n      <td>GET /suggestions/api/4_1/rs/iplocate/address?i...</td>\n    </tr>\n    <tr>\n      <th>3</th>\n      <td>2023-08-02T06:48:57.000Z</td>\n      <td>178.216.100.193</td>\n      <td>suggestions.dadata.ru</td>\n      <td>200</td>\n      <td>0.006</td>\n      <td>GuzzleHttp/7</td>\n      <td>GET /suggestions/api/4_1/rs/iplocate/address?i...</td>\n    </tr>\n    <tr>\n      <th>4</th>\n      <td>2023-08-02T06:48:57.000Z</td>\n      <td>178.216.100.193</td>\n      <td>suggestions.dadata.ru</td>\n      <td>200</td>\n      <td>0.002</td>\n      <td>GuzzleHttp/7</td>\n      <td>GET /suggestions/api/4_1/rs/iplocate/address?i...</td>\n    </tr>\n    <tr>\n      <th>...</th>\n      <td>...</td>\n      <td>...</td>\n      <td>...</td>\n      <td>...</td>\n      <td>...</td>\n      <td>...</td>\n      <td>...</td>\n    </tr>\n    <tr>\n      <th>11880</th>\n      <td>2023-08-02T12:29:41.000Z</td>\n      <td>178.216.98.64</td>\n      <td>suggestions.dadata.ru</td>\n      <td>403</td>\n      <td>0.001</td>\n      <td>GuzzleHttp/7</td>\n      <td>GET /suggestions/api/4_1/rs/iplocate/address?i...</td>\n    </tr>\n    <tr>\n      <th>11881</th>\n      <td>2023-08-02T12:30:26.000Z</td>\n      <td>89.23.156.102</td>\n      <td>suggestions.dadata.ru</td>\n      <td>403</td>\n      <td>0.008</td>\n      <td>Mozilla/5.0 (Windows NT 10.0; Win64; x64) Appl...</td>\n      <td>POST /suggestions/api/4_1/rs/suggest/address H...</td>\n    </tr>\n    <tr>\n      <th>11882</th>\n      <td>2023-08-02T12:30:26.000Z</td>\n      <td>89.23.156.102</td>\n      <td>suggestions.dadata.ru</td>\n      <td>403</td>\n      <td>0.007</td>\n      <td>Mozilla/5.0 (Windows NT 10.0; Win64; x64) Appl...</td>\n      <td>POST /suggestions/api/4_1/rs/suggest/address H...</td>\n    </tr>\n    <tr>\n      <th>11883</th>\n      <td>2023-08-02T14:05:03.000Z</td>\n      <td>90.154.71.17</td>\n      <td>suggestions.dadata.ru</td>\n      <td>403</td>\n      <td>0.009</td>\n      <td>Mozilla/5.0 (Windows NT 10.0; Win64; x64) Appl...</td>\n      <td>POST /suggestions/api/4_1/rs/suggest/address H...</td>\n    </tr>\n    <tr>\n      <th>11884</th>\n      <td>2023-08-02T14:05:03.000Z</td>\n      <td>90.154.71.17</td>\n      <td>suggestions.dadata.ru</td>\n      <td>403</td>\n      <td>0.007</td>\n      <td>Mozilla/5.0 (Windows NT 10.0; Win64; x64) Appl...</td>\n      <td>POST /suggestions/api/4_1/rs/suggest/address H...</td>\n    </tr>\n  </tbody>\n</table>\n<p>11885 rows × 7 columns</p>\n</div>"
     },
     "execution_count": 3,
     "metadata": {},
     "output_type": "execute_result"
    }
   ],
   "source": [
    "df"
   ],
   "metadata": {
    "collapsed": false,
    "ExecuteTime": {
     "end_time": "2023-08-02T20:51:35.644194800Z",
     "start_time": "2023-08-02T20:51:35.565936800Z"
    }
   },
   "id": "1d0cee4511a8e1be"
  },
  {
   "cell_type": "code",
   "execution_count": 4,
   "outputs": [
    {
     "name": "stdout",
     "output_type": "stream",
     "text": [
      "<class 'pandas.core.frame.DataFrame'>\n",
      "RangeIndex: 11885 entries, 0 to 11884\n",
      "Data columns (total 7 columns):\n",
      " #   Column           Non-Null Count  Dtype  \n",
      "---  ------           --------------  -----  \n",
      " 0   timestamp        11885 non-null  object \n",
      " 1   source           11885 non-null  object \n",
      " 2   host             11885 non-null  object \n",
      " 3   response_status  11885 non-null  int64  \n",
      " 4   request_time     11885 non-null  float64\n",
      " 5   http_user_agent  11885 non-null  object \n",
      " 6   message          11885 non-null  object \n",
      "dtypes: float64(1), int64(1), object(5)\n",
      "memory usage: 650.1+ KB\n"
     ]
    }
   ],
   "source": [
    "df.info()"
   ],
   "metadata": {
    "collapsed": false,
    "ExecuteTime": {
     "end_time": "2023-08-02T20:52:01.207971600Z",
     "start_time": "2023-08-02T20:52:01.181798Z"
    }
   },
   "id": "8ace26df378a949f"
  },
  {
   "cell_type": "code",
   "execution_count": 11,
   "outputs": [
    {
     "data": {
      "text/plain": "timestamp          2234\nsource                9\nhost                  2\nresponse_status       2\nrequest_time         28\nhttp_user_agent       5\nmessage              17\ndtype: int64"
     },
     "execution_count": 11,
     "metadata": {},
     "output_type": "execute_result"
    }
   ],
   "source": [
    "df.nunique()"
   ],
   "metadata": {
    "collapsed": false,
    "ExecuteTime": {
     "end_time": "2023-08-02T20:55:53.651198200Z",
     "start_time": "2023-08-02T20:55:53.633198800Z"
    }
   },
   "id": "452b747bb4ed7b97"
  },
  {
   "cell_type": "code",
   "execution_count": 12,
   "outputs": [
    {
     "data": {
      "text/plain": "array(['178.216.100.193', '188.35.29.1', '178.216.98.64', '217.73.62.199',\n       '195.38.23.9', '90.154.71.17', '109.252.176.52', '83.220.238.14',\n       '89.23.156.102'], dtype=object)"
     },
     "execution_count": 12,
     "metadata": {},
     "output_type": "execute_result"
    }
   ],
   "source": [
    "df.source.unique()"
   ],
   "metadata": {
    "collapsed": false,
    "ExecuteTime": {
     "end_time": "2023-08-02T20:56:48.787819300Z",
     "start_time": "2023-08-02T20:56:48.768821700Z"
    }
   },
   "id": "4b293632a49d6ae8"
  },
  {
   "cell_type": "code",
   "execution_count": 14,
   "outputs": [
    {
     "data": {
      "text/plain": "178.216.98.64      5958\n217.73.62.199      5832\n90.154.71.17         40\n178.216.100.193      35\n195.38.23.9           8\n109.252.176.52        6\n188.35.29.1           2\n83.220.238.14         2\n89.23.156.102         2\nName: source, dtype: int64"
     },
     "execution_count": 14,
     "metadata": {},
     "output_type": "execute_result"
    }
   ],
   "source": [
    "df.source.value_counts()"
   ],
   "metadata": {
    "collapsed": false,
    "ExecuteTime": {
     "end_time": "2023-08-02T20:59:18.063814900Z",
     "start_time": "2023-08-02T20:59:18.057813600Z"
    }
   },
   "id": "c193784123245e70"
  },
  {
   "cell_type": "markdown",
   "source": [
    "https://www.freecodecamp.org/news/how-to-get-location-information-of-ip-address-using-python/"
   ],
   "metadata": {
    "collapsed": false
   },
   "id": "9319c07dc23b10dd"
  }
 ],
 "metadata": {
  "kernelspec": {
   "display_name": "Python 3",
   "language": "python",
   "name": "python3"
  },
  "language_info": {
   "codemirror_mode": {
    "name": "ipython",
    "version": 2
   },
   "file_extension": ".py",
   "mimetype": "text/x-python",
   "name": "python",
   "nbconvert_exporter": "python",
   "pygments_lexer": "ipython2",
   "version": "2.7.6"
  }
 },
 "nbformat": 4,
 "nbformat_minor": 5
}
