{
 "cells": [
  {
   "cell_type": "code",
   "execution_count": 21,
   "id": "initial_id",
   "metadata": {
    "collapsed": true,
    "ExecuteTime": {
     "end_time": "2023-08-22T10:16:16.110350500Z",
     "start_time": "2023-08-22T10:16:16.066229600Z"
    }
   },
   "outputs": [],
   "source": [
    "import pandas as pd"
   ]
  },
  {
   "cell_type": "code",
   "execution_count": 22,
   "outputs": [
    {
     "name": "stdout",
     "output_type": "stream",
     "text": [
      "Requirement already satisfied: openpyxl in c:\\prj\\muzmonitor\\venv\\lib\\site-packages (3.1.2)\n",
      "Requirement already satisfied: et-xmlfile in c:\\prj\\muzmonitor\\venv\\lib\\site-packages (from openpyxl) (1.1.0)\n"
     ]
    }
   ],
   "source": [
    "! pip install openpyxl"
   ],
   "metadata": {
    "collapsed": false,
    "ExecuteTime": {
     "end_time": "2023-08-22T10:16:19.790993500Z",
     "start_time": "2023-08-22T10:16:16.711475300Z"
    }
   },
   "id": "ca7af4e44cd2729d"
  },
  {
   "cell_type": "code",
   "execution_count": 23,
   "outputs": [],
   "source": [
    "df = pd.read_excel('fias_region.xlsx')"
   ],
   "metadata": {
    "collapsed": false,
    "ExecuteTime": {
     "end_time": "2023-08-22T10:16:21.199934400Z",
     "start_time": "2023-08-22T10:16:21.090639100Z"
    }
   },
   "id": "86752078cd874535"
  },
  {
   "cell_type": "code",
   "execution_count": 24,
   "outputs": [
    {
     "data": {
      "text/plain": "   regioncode                                aoguid   latitude   longitude  \\\n0           1  d8327a56-80de-4df2-815c-4f6ab1224c50  44.606654   40.067296   \n1           2  6f2cbfd8-692a-4ee4-9b16-067210bde3fc  54.520212   55.794479   \n2           3  a84ebed3-153d-4ba9-8532-8bdf879e1f5a  52.650580  107.763552   \n3           4  5c48611f-5de6-4771-9695-7e36a4e7529d  51.931926   85.976714   \n4           5  0bb7fa19-736d-49cf-ad0e-9774c4dae09b  42.747203   47.696699   \n\n                title                         center_aoguid      center_title  \\\n0        Респ. Адыгея  8cfbe842-e803-49ca-9347-1ef90481dd98         г. Майкоп   \n1  Респ. Башкортостан  7339e834-2cb4-4734-a4c7-1fca2c66e562            г. Уфа   \n2       Респ. Бурятия  9fdcc25f-a3d0-4f28-8b61-40648d099065       г. Улан-Удэ   \n3         Респ. Алтай  0839d751-b940-4d3d-afb6-5df03fdd7791  г. Горно-Алтайск   \n4      Респ. Дагестан  727cdf1e-1b70-4e07-8995-9bf7ca9abefb      г. Махачкала   \n\n   options  transport_sort  transport_sort_intermediary  \n0      NaN               2                            2  \n1      NaN               2                            2  \n2      NaN               2                            2  \n3      NaN               2                            2  \n4      NaN               2                            2  ",
      "text/html": "<div>\n<style scoped>\n    .dataframe tbody tr th:only-of-type {\n        vertical-align: middle;\n    }\n\n    .dataframe tbody tr th {\n        vertical-align: top;\n    }\n\n    .dataframe thead th {\n        text-align: right;\n    }\n</style>\n<table border=\"1\" class=\"dataframe\">\n  <thead>\n    <tr style=\"text-align: right;\">\n      <th></th>\n      <th>regioncode</th>\n      <th>aoguid</th>\n      <th>latitude</th>\n      <th>longitude</th>\n      <th>title</th>\n      <th>center_aoguid</th>\n      <th>center_title</th>\n      <th>options</th>\n      <th>transport_sort</th>\n      <th>transport_sort_intermediary</th>\n    </tr>\n  </thead>\n  <tbody>\n    <tr>\n      <th>0</th>\n      <td>1</td>\n      <td>d8327a56-80de-4df2-815c-4f6ab1224c50</td>\n      <td>44.606654</td>\n      <td>40.067296</td>\n      <td>Респ. Адыгея</td>\n      <td>8cfbe842-e803-49ca-9347-1ef90481dd98</td>\n      <td>г. Майкоп</td>\n      <td>NaN</td>\n      <td>2</td>\n      <td>2</td>\n    </tr>\n    <tr>\n      <th>1</th>\n      <td>2</td>\n      <td>6f2cbfd8-692a-4ee4-9b16-067210bde3fc</td>\n      <td>54.520212</td>\n      <td>55.794479</td>\n      <td>Респ. Башкортостан</td>\n      <td>7339e834-2cb4-4734-a4c7-1fca2c66e562</td>\n      <td>г. Уфа</td>\n      <td>NaN</td>\n      <td>2</td>\n      <td>2</td>\n    </tr>\n    <tr>\n      <th>2</th>\n      <td>3</td>\n      <td>a84ebed3-153d-4ba9-8532-8bdf879e1f5a</td>\n      <td>52.650580</td>\n      <td>107.763552</td>\n      <td>Респ. Бурятия</td>\n      <td>9fdcc25f-a3d0-4f28-8b61-40648d099065</td>\n      <td>г. Улан-Удэ</td>\n      <td>NaN</td>\n      <td>2</td>\n      <td>2</td>\n    </tr>\n    <tr>\n      <th>3</th>\n      <td>4</td>\n      <td>5c48611f-5de6-4771-9695-7e36a4e7529d</td>\n      <td>51.931926</td>\n      <td>85.976714</td>\n      <td>Респ. Алтай</td>\n      <td>0839d751-b940-4d3d-afb6-5df03fdd7791</td>\n      <td>г. Горно-Алтайск</td>\n      <td>NaN</td>\n      <td>2</td>\n      <td>2</td>\n    </tr>\n    <tr>\n      <th>4</th>\n      <td>5</td>\n      <td>0bb7fa19-736d-49cf-ad0e-9774c4dae09b</td>\n      <td>42.747203</td>\n      <td>47.696699</td>\n      <td>Респ. Дагестан</td>\n      <td>727cdf1e-1b70-4e07-8995-9bf7ca9abefb</td>\n      <td>г. Махачкала</td>\n      <td>NaN</td>\n      <td>2</td>\n      <td>2</td>\n    </tr>\n  </tbody>\n</table>\n</div>"
     },
     "execution_count": 24,
     "metadata": {},
     "output_type": "execute_result"
    }
   ],
   "source": [
    "df.head()"
   ],
   "metadata": {
    "collapsed": false,
    "ExecuteTime": {
     "end_time": "2023-08-22T10:16:23.450849200Z",
     "start_time": "2023-08-22T10:16:23.416261500Z"
    }
   },
   "id": "91743a86daffa2d1"
  },
  {
   "cell_type": "code",
   "execution_count": 25,
   "outputs": [
    {
     "name": "stdout",
     "output_type": "stream",
     "text": [
      "<class 'pandas.core.frame.DataFrame'>\n",
      "RangeIndex: 85 entries, 0 to 84\n",
      "Data columns (total 10 columns):\n",
      " #   Column                       Non-Null Count  Dtype  \n",
      "---  ------                       --------------  -----  \n",
      " 0   regioncode                   85 non-null     int64  \n",
      " 1   aoguid                       85 non-null     object \n",
      " 2   latitude                     85 non-null     float64\n",
      " 3   longitude                    85 non-null     float64\n",
      " 4   title                        85 non-null     object \n",
      " 5   center_aoguid                85 non-null     object \n",
      " 6   center_title                 85 non-null     object \n",
      " 7   options                      0 non-null      float64\n",
      " 8   transport_sort               85 non-null     int64  \n",
      " 9   transport_sort_intermediary  85 non-null     int64  \n",
      "dtypes: float64(3), int64(3), object(4)\n",
      "memory usage: 6.8+ KB\n"
     ]
    }
   ],
   "source": [
    "df.info()"
   ],
   "metadata": {
    "collapsed": false,
    "ExecuteTime": {
     "end_time": "2023-08-22T10:16:25.163692Z",
     "start_time": "2023-08-22T10:16:25.132294600Z"
    }
   },
   "id": "5fc80300918fe451"
  },
  {
   "cell_type": "code",
   "execution_count": 26,
   "outputs": [],
   "source": [
    "df['city_morph']=''"
   ],
   "metadata": {
    "collapsed": false,
    "ExecuteTime": {
     "end_time": "2023-08-22T10:16:26.723270200Z",
     "start_time": "2023-08-22T10:16:26.709198700Z"
    }
   },
   "id": "4df0a1204641855e"
  },
  {
   "cell_type": "code",
   "execution_count": 8,
   "outputs": [
    {
     "name": "stdout",
     "output_type": "stream",
     "text": [
      "Collecting pymorphy2\n",
      "  Using cached pymorphy2-0.9.1-py3-none-any.whl (55 kB)\n",
      "Collecting dawg-python>=0.7.1 (from pymorphy2)\n",
      "  Using cached DAWG_Python-0.7.2-py2.py3-none-any.whl (11 kB)\n",
      "Collecting pymorphy2-dicts-ru<3.0,>=2.4 (from pymorphy2)\n",
      "  Using cached pymorphy2_dicts_ru-2.4.417127.4579844-py2.py3-none-any.whl (8.2 MB)\n",
      "Collecting docopt>=0.6 (from pymorphy2)\n",
      "  Using cached docopt-0.6.2.tar.gz (25 kB)\n",
      "  Preparing metadata (setup.py): started\n",
      "  Preparing metadata (setup.py): finished with status 'done'\n",
      "Building wheels for collected packages: docopt\n",
      "  Building wheel for docopt (setup.py): started\n",
      "  Building wheel for docopt (setup.py): finished with status 'done'\n",
      "  Created wheel for docopt: filename=docopt-0.6.2-py2.py3-none-any.whl size=13775 sha256=ddd6ded402dd0dcc18ddb65b8d12df1759eee38a633e089b8be8ed3de7af118f\n",
      "  Stored in directory: c:\\users\\k142\\appdata\\local\\pip\\cache\\wheels\\fc\\ab\\d4\\5da2067ac95b36618c629a5f93f809425700506f72c9732fac\n",
      "Successfully built docopt\n",
      "Installing collected packages: pymorphy2-dicts-ru, docopt, dawg-python, pymorphy2\n",
      "Successfully installed dawg-python-0.7.2 docopt-0.6.2 pymorphy2-0.9.1 pymorphy2-dicts-ru-2.4.417127.4579844\n"
     ]
    }
   ],
   "source": [
    "!pip install pymorphy2"
   ],
   "metadata": {
    "collapsed": false,
    "ExecuteTime": {
     "end_time": "2023-08-21T16:23:48.844270400Z",
     "start_time": "2023-08-21T16:23:40.170698Z"
    }
   },
   "id": "3ad5d409e7de6778"
  },
  {
   "cell_type": "code",
   "execution_count": 27,
   "outputs": [],
   "source": [
    "import pymorphy2\n",
    "from pymorphy2.shapes import restore_capitalization"
   ],
   "metadata": {
    "collapsed": false,
    "ExecuteTime": {
     "end_time": "2023-08-22T10:16:34.352277100Z",
     "start_time": "2023-08-22T10:16:34.340696600Z"
    }
   },
   "id": "6107afc9f71f5870"
  },
  {
   "cell_type": "code",
   "execution_count": 28,
   "outputs": [],
   "source": [
    "def inflect_all(morph, text, required_grammemes):\n",
    "    tokens = text.split()\n",
    "    inflected = [\n",
    "        restore_capitalization(\n",
    "            morph.parse(tok)[0].inflect(required_grammemes).word,\n",
    "            tok\n",
    "        )\n",
    "        for tok in tokens\n",
    "    ]\n",
    "    return \" \".join(inflected)"
   ],
   "metadata": {
    "collapsed": false,
    "ExecuteTime": {
     "end_time": "2023-08-22T10:16:36.827334100Z",
     "start_time": "2023-08-22T10:16:36.812545900Z"
    }
   },
   "id": "edeb109d198f14eb"
  },
  {
   "cell_type": "code",
   "execution_count": 29,
   "outputs": [],
   "source": [
    "morph = pymorphy2.MorphAnalyzer()"
   ],
   "metadata": {
    "collapsed": false,
    "ExecuteTime": {
     "end_time": "2023-08-22T10:16:38.209888600Z",
     "start_time": "2023-08-22T10:16:37.722233Z"
    }
   },
   "id": "6269dbc0bf14c293"
  },
  {
   "cell_type": "code",
   "execution_count": 13,
   "outputs": [
    {
     "data": {
      "text/plain": "'Нижнем Новгороде'"
     },
     "execution_count": 13,
     "metadata": {},
     "output_type": "execute_result"
    }
   ],
   "source": [
    "inflect_all(morph, 'Нижний Новгород', {'loc2'})"
   ],
   "metadata": {
    "collapsed": false,
    "ExecuteTime": {
     "end_time": "2023-08-21T16:27:32.132401400Z",
     "start_time": "2023-08-21T16:27:31.939914200Z"
    }
   },
   "id": "560589762e9649ff"
  },
  {
   "cell_type": "code",
   "execution_count": 14,
   "outputs": [
    {
     "data": {
      "text/plain": "'Горно-Алтайске'"
     },
     "execution_count": 14,
     "metadata": {},
     "output_type": "execute_result"
    }
   ],
   "source": [
    "inflect_all(morph, 'Горно-Алтайск', {'loc2'})"
   ],
   "metadata": {
    "collapsed": false,
    "ExecuteTime": {
     "end_time": "2023-08-21T16:28:16.231811200Z",
     "start_time": "2023-08-21T16:28:16.175506800Z"
    }
   },
   "id": "e1d8fac9ead0fbb9"
  },
  {
   "cell_type": "code",
   "execution_count": 16,
   "outputs": [
    {
     "data": {
      "text/plain": "'Горно-Алтайск'"
     },
     "execution_count": 16,
     "metadata": {},
     "output_type": "execute_result"
    }
   ],
   "source": [
    "'г. Горно-Алтайск'[3:]"
   ],
   "metadata": {
    "collapsed": false,
    "ExecuteTime": {
     "end_time": "2023-08-21T16:31:39.305687Z",
     "start_time": "2023-08-21T16:31:39.290195900Z"
    }
   },
   "id": "ca6f4fd6f39e961c"
  },
  {
   "cell_type": "code",
   "execution_count": 17,
   "outputs": [],
   "source": [
    "df['city_morph'] = df['center_title'].apply(lambda x: inflect_all(morph, x[3:], {'loc2'}) )"
   ],
   "metadata": {
    "collapsed": false,
    "ExecuteTime": {
     "end_time": "2023-08-21T16:31:48.685055200Z",
     "start_time": "2023-08-21T16:31:48.638706800Z"
    }
   },
   "id": "deca611bff114c87"
  },
  {
   "cell_type": "code",
   "execution_count": 18,
   "outputs": [
    {
     "data": {
      "text/plain": "    regioncode                                aoguid   latitude   longitude  \\\n0            1  d8327a56-80de-4df2-815c-4f6ab1224c50  44.606654   40.067296   \n1            2  6f2cbfd8-692a-4ee4-9b16-067210bde3fc  54.520212   55.794479   \n2            3  a84ebed3-153d-4ba9-8532-8bdf879e1f5a  52.650580  107.763552   \n3            4  5c48611f-5de6-4771-9695-7e36a4e7529d  51.931926   85.976714   \n4            5  0bb7fa19-736d-49cf-ad0e-9774c4dae09b  42.747203   47.696699   \n..         ...                                   ...        ...         ...   \n80          86  d66e5325-3a25-4d29-ba86-4ca351d9704b  61.302914   73.485998   \n81          87  f136159b-404a-4f1f-8d8d-d169e1374d5c  65.982613  174.432311   \n82          89  826fa834-3ee8-404f-bdbc-13a5221cfb6e  67.659998   57.388995   \n83          91  bd8e6511-e4b9-4841-90de-6bbc231a789e  45.015486   34.489834   \n84          92  6fdecb78-893a-4e3f-a5ba-aa062459463b  44.602286   33.525141   \n\n                                           title  \\\n0                                   Респ. Адыгея   \n1                             Респ. Башкортостан   \n2                                  Респ. Бурятия   \n3                                    Респ. Алтай   \n4                                 Респ. Дагестан   \n..                                           ...   \n80  АО. Ханты-Мансийский Автономный округ - Югра   \n81                                  Чукотский АО   \n82                             Ямало-Ненецкий АО   \n83                                    Респ. Крым   \n84                                г. Севастополь   \n\n                           center_aoguid       center_title  options  \\\n0   8cfbe842-e803-49ca-9347-1ef90481dd98          г. Майкоп      NaN   \n1   7339e834-2cb4-4734-a4c7-1fca2c66e562             г. Уфа      NaN   \n2   9fdcc25f-a3d0-4f28-8b61-40648d099065        г. Улан-Удэ      NaN   \n3   0839d751-b940-4d3d-afb6-5df03fdd7791   г. Горно-Алтайск      NaN   \n4   727cdf1e-1b70-4e07-8995-9bf7ca9abefb       г. Махачкала      NaN   \n..                                   ...                ...      ...   \n80  d680d1a9-ff89-42c0-b39f-143d2ffb520a  г. Ханты-Мансийск      NaN   \n81  7fad3a21-06b4-4af3-9657-bf1521714952         г. Анадырь      NaN   \n82  0c1b7f05-9fd9-4ec9-a2cc-5ee2799be1e6        г. Салехард      NaN   \n83  b7b1ef3e-bd1c-4080-80ea-f0580b40281b           г. Керчь      NaN   \n84  6fdecb78-893a-4e3f-a5ba-aa062459463b     г. Севастополь      NaN   \n\n    transport_sort  transport_sort_intermediary       city_morph  \n0                2                            2          Майкопе  \n1                2                            2              Уфе  \n2                2                            2         Улан-Удэ  \n3                2                            2   Горно-Алтайске  \n4                2                            2        Махачкале  \n..             ...                          ...              ...  \n80               2                            2  Ханты-Мансийске  \n81               2                            2          Анадыре  \n82               2                            2        Салехарде  \n83               2                            2            Керчи  \n84               2                            2      Севастополе  \n\n[85 rows x 11 columns]",
      "text/html": "<div>\n<style scoped>\n    .dataframe tbody tr th:only-of-type {\n        vertical-align: middle;\n    }\n\n    .dataframe tbody tr th {\n        vertical-align: top;\n    }\n\n    .dataframe thead th {\n        text-align: right;\n    }\n</style>\n<table border=\"1\" class=\"dataframe\">\n  <thead>\n    <tr style=\"text-align: right;\">\n      <th></th>\n      <th>regioncode</th>\n      <th>aoguid</th>\n      <th>latitude</th>\n      <th>longitude</th>\n      <th>title</th>\n      <th>center_aoguid</th>\n      <th>center_title</th>\n      <th>options</th>\n      <th>transport_sort</th>\n      <th>transport_sort_intermediary</th>\n      <th>city_morph</th>\n    </tr>\n  </thead>\n  <tbody>\n    <tr>\n      <th>0</th>\n      <td>1</td>\n      <td>d8327a56-80de-4df2-815c-4f6ab1224c50</td>\n      <td>44.606654</td>\n      <td>40.067296</td>\n      <td>Респ. Адыгея</td>\n      <td>8cfbe842-e803-49ca-9347-1ef90481dd98</td>\n      <td>г. Майкоп</td>\n      <td>NaN</td>\n      <td>2</td>\n      <td>2</td>\n      <td>Майкопе</td>\n    </tr>\n    <tr>\n      <th>1</th>\n      <td>2</td>\n      <td>6f2cbfd8-692a-4ee4-9b16-067210bde3fc</td>\n      <td>54.520212</td>\n      <td>55.794479</td>\n      <td>Респ. Башкортостан</td>\n      <td>7339e834-2cb4-4734-a4c7-1fca2c66e562</td>\n      <td>г. Уфа</td>\n      <td>NaN</td>\n      <td>2</td>\n      <td>2</td>\n      <td>Уфе</td>\n    </tr>\n    <tr>\n      <th>2</th>\n      <td>3</td>\n      <td>a84ebed3-153d-4ba9-8532-8bdf879e1f5a</td>\n      <td>52.650580</td>\n      <td>107.763552</td>\n      <td>Респ. Бурятия</td>\n      <td>9fdcc25f-a3d0-4f28-8b61-40648d099065</td>\n      <td>г. Улан-Удэ</td>\n      <td>NaN</td>\n      <td>2</td>\n      <td>2</td>\n      <td>Улан-Удэ</td>\n    </tr>\n    <tr>\n      <th>3</th>\n      <td>4</td>\n      <td>5c48611f-5de6-4771-9695-7e36a4e7529d</td>\n      <td>51.931926</td>\n      <td>85.976714</td>\n      <td>Респ. Алтай</td>\n      <td>0839d751-b940-4d3d-afb6-5df03fdd7791</td>\n      <td>г. Горно-Алтайск</td>\n      <td>NaN</td>\n      <td>2</td>\n      <td>2</td>\n      <td>Горно-Алтайске</td>\n    </tr>\n    <tr>\n      <th>4</th>\n      <td>5</td>\n      <td>0bb7fa19-736d-49cf-ad0e-9774c4dae09b</td>\n      <td>42.747203</td>\n      <td>47.696699</td>\n      <td>Респ. Дагестан</td>\n      <td>727cdf1e-1b70-4e07-8995-9bf7ca9abefb</td>\n      <td>г. Махачкала</td>\n      <td>NaN</td>\n      <td>2</td>\n      <td>2</td>\n      <td>Махачкале</td>\n    </tr>\n    <tr>\n      <th>...</th>\n      <td>...</td>\n      <td>...</td>\n      <td>...</td>\n      <td>...</td>\n      <td>...</td>\n      <td>...</td>\n      <td>...</td>\n      <td>...</td>\n      <td>...</td>\n      <td>...</td>\n      <td>...</td>\n    </tr>\n    <tr>\n      <th>80</th>\n      <td>86</td>\n      <td>d66e5325-3a25-4d29-ba86-4ca351d9704b</td>\n      <td>61.302914</td>\n      <td>73.485998</td>\n      <td>АО. Ханты-Мансийский Автономный округ - Югра</td>\n      <td>d680d1a9-ff89-42c0-b39f-143d2ffb520a</td>\n      <td>г. Ханты-Мансийск</td>\n      <td>NaN</td>\n      <td>2</td>\n      <td>2</td>\n      <td>Ханты-Мансийске</td>\n    </tr>\n    <tr>\n      <th>81</th>\n      <td>87</td>\n      <td>f136159b-404a-4f1f-8d8d-d169e1374d5c</td>\n      <td>65.982613</td>\n      <td>174.432311</td>\n      <td>Чукотский АО</td>\n      <td>7fad3a21-06b4-4af3-9657-bf1521714952</td>\n      <td>г. Анадырь</td>\n      <td>NaN</td>\n      <td>2</td>\n      <td>2</td>\n      <td>Анадыре</td>\n    </tr>\n    <tr>\n      <th>82</th>\n      <td>89</td>\n      <td>826fa834-3ee8-404f-bdbc-13a5221cfb6e</td>\n      <td>67.659998</td>\n      <td>57.388995</td>\n      <td>Ямало-Ненецкий АО</td>\n      <td>0c1b7f05-9fd9-4ec9-a2cc-5ee2799be1e6</td>\n      <td>г. Салехард</td>\n      <td>NaN</td>\n      <td>2</td>\n      <td>2</td>\n      <td>Салехарде</td>\n    </tr>\n    <tr>\n      <th>83</th>\n      <td>91</td>\n      <td>bd8e6511-e4b9-4841-90de-6bbc231a789e</td>\n      <td>45.015486</td>\n      <td>34.489834</td>\n      <td>Респ. Крым</td>\n      <td>b7b1ef3e-bd1c-4080-80ea-f0580b40281b</td>\n      <td>г. Керчь</td>\n      <td>NaN</td>\n      <td>2</td>\n      <td>2</td>\n      <td>Керчи</td>\n    </tr>\n    <tr>\n      <th>84</th>\n      <td>92</td>\n      <td>6fdecb78-893a-4e3f-a5ba-aa062459463b</td>\n      <td>44.602286</td>\n      <td>33.525141</td>\n      <td>г. Севастополь</td>\n      <td>6fdecb78-893a-4e3f-a5ba-aa062459463b</td>\n      <td>г. Севастополь</td>\n      <td>NaN</td>\n      <td>2</td>\n      <td>2</td>\n      <td>Севастополе</td>\n    </tr>\n  </tbody>\n</table>\n<p>85 rows × 11 columns</p>\n</div>"
     },
     "execution_count": 18,
     "metadata": {},
     "output_type": "execute_result"
    }
   ],
   "source": [
    "df"
   ],
   "metadata": {
    "collapsed": false,
    "ExecuteTime": {
     "end_time": "2023-08-21T16:31:53.896852400Z",
     "start_time": "2023-08-21T16:31:53.796919200Z"
    }
   },
   "id": "1e48b8d801f99784"
  },
  {
   "cell_type": "markdown",
   "source": [
    "выгрузить в json"
   ],
   "metadata": {
    "collapsed": false
   },
   "id": "a062da0c7e2be84"
  },
  {
   "cell_type": "code",
   "execution_count": 20,
   "outputs": [
    {
     "data": {
      "text/plain": "         center_title       city_morph\n0           г. Майкоп          Майкопе\n1              г. Уфа              Уфе\n2         г. Улан-Удэ         Улан-Удэ\n3    г. Горно-Алтайск   Горно-Алтайске\n4        г. Махачкала        Махачкале\n..                ...              ...\n80  г. Ханты-Мансийск  Ханты-Мансийске\n81         г. Анадырь          Анадыре\n82        г. Салехард        Салехарде\n83           г. Керчь            Керчи\n84     г. Севастополь      Севастополе\n\n[85 rows x 2 columns]",
      "text/html": "<div>\n<style scoped>\n    .dataframe tbody tr th:only-of-type {\n        vertical-align: middle;\n    }\n\n    .dataframe tbody tr th {\n        vertical-align: top;\n    }\n\n    .dataframe thead th {\n        text-align: right;\n    }\n</style>\n<table border=\"1\" class=\"dataframe\">\n  <thead>\n    <tr style=\"text-align: right;\">\n      <th></th>\n      <th>center_title</th>\n      <th>city_morph</th>\n    </tr>\n  </thead>\n  <tbody>\n    <tr>\n      <th>0</th>\n      <td>г. Майкоп</td>\n      <td>Майкопе</td>\n    </tr>\n    <tr>\n      <th>1</th>\n      <td>г. Уфа</td>\n      <td>Уфе</td>\n    </tr>\n    <tr>\n      <th>2</th>\n      <td>г. Улан-Удэ</td>\n      <td>Улан-Удэ</td>\n    </tr>\n    <tr>\n      <th>3</th>\n      <td>г. Горно-Алтайск</td>\n      <td>Горно-Алтайске</td>\n    </tr>\n    <tr>\n      <th>4</th>\n      <td>г. Махачкала</td>\n      <td>Махачкале</td>\n    </tr>\n    <tr>\n      <th>...</th>\n      <td>...</td>\n      <td>...</td>\n    </tr>\n    <tr>\n      <th>80</th>\n      <td>г. Ханты-Мансийск</td>\n      <td>Ханты-Мансийске</td>\n    </tr>\n    <tr>\n      <th>81</th>\n      <td>г. Анадырь</td>\n      <td>Анадыре</td>\n    </tr>\n    <tr>\n      <th>82</th>\n      <td>г. Салехард</td>\n      <td>Салехарде</td>\n    </tr>\n    <tr>\n      <th>83</th>\n      <td>г. Керчь</td>\n      <td>Керчи</td>\n    </tr>\n    <tr>\n      <th>84</th>\n      <td>г. Севастополь</td>\n      <td>Севастополе</td>\n    </tr>\n  </tbody>\n</table>\n<p>85 rows × 2 columns</p>\n</div>"
     },
     "execution_count": 20,
     "metadata": {},
     "output_type": "execute_result"
    }
   ],
   "source": [
    "df[['center_title','city_morph']]"
   ],
   "metadata": {
    "collapsed": false,
    "ExecuteTime": {
     "end_time": "2023-08-21T16:35:19.482124700Z",
     "start_time": "2023-08-21T16:35:19.441316700Z"
    }
   },
   "id": "56f4f759d9c8d5f4"
  },
  {
   "cell_type": "code",
   "execution_count": null,
   "outputs": [],
   "source": [],
   "metadata": {
    "collapsed": false
   },
   "id": "155ca51a1875afb0"
  }
 ],
 "metadata": {
  "kernelspec": {
   "display_name": "Python 3",
   "language": "python",
   "name": "python3"
  },
  "language_info": {
   "codemirror_mode": {
    "name": "ipython",
    "version": 2
   },
   "file_extension": ".py",
   "mimetype": "text/x-python",
   "name": "python",
   "nbconvert_exporter": "python",
   "pygments_lexer": "ipython2",
   "version": "2.7.6"
  }
 },
 "nbformat": 4,
 "nbformat_minor": 5
}
